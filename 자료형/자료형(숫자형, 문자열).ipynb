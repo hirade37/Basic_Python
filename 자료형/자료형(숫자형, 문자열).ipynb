{
  "nbformat": 4,
  "nbformat_minor": 0,
  "metadata": {
    "colab": {
      "name": "Untitled0.ipynb",
      "provenance": [],
      "collapsed_sections": [],
      "authorship_tag": "ABX9TyMh1KC0AMNVLzyhwAiZ3Nmc"
    },
    "kernelspec": {
      "name": "python3",
      "display_name": "Python 3"
    }
  },
  "cells": [
    {
      "cell_type": "code",
      "metadata": {
        "colab": {
          "base_uri": "https://localhost:8080/"
        },
        "id": "hnKsw8_ii0Qa",
        "outputId": "96d4fabc-3514-4416-d4a7-8c2c701521c3"
      },
      "source": [
        "# 숫자형\r\n",
        "var1 = 10;\r\n",
        "type(var1) # int"
      ],
      "execution_count": null,
      "outputs": [
        {
          "output_type": "execute_result",
          "data": {
            "text/plain": [
              "int"
            ]
          },
          "metadata": {
            "tags": []
          },
          "execution_count": 7
        }
      ]
    },
    {
      "cell_type": "code",
      "metadata": {
        "colab": {
          "base_uri": "https://localhost:8080/"
        },
        "id": "7i85d6KblGWB",
        "outputId": "372abcd6-b081-4c9c-ea66-a4e78a3eae02"
      },
      "source": [
        "var2 = 3.14\r\n",
        "type(var2) # float"
      ],
      "execution_count": null,
      "outputs": [
        {
          "output_type": "execute_result",
          "data": {
            "text/plain": [
              "float"
            ]
          },
          "metadata": {
            "tags": []
          },
          "execution_count": 8
        }
      ]
    },
    {
      "cell_type": "code",
      "metadata": {
        "colab": {
          "base_uri": "https://localhost:8080/"
        },
        "id": "s-3A1DDhlRVD",
        "outputId": "2ba76064-1a40-458c-89a4-8033dde205d1"
      },
      "source": [
        "var3 = 3 + 0.14\r\n",
        "type(var3) # float"
      ],
      "execution_count": null,
      "outputs": [
        {
          "output_type": "execute_result",
          "data": {
            "text/plain": [
              "float"
            ]
          },
          "metadata": {
            "tags": []
          },
          "execution_count": 10
        }
      ]
    },
    {
      "cell_type": "code",
      "metadata": {
        "colab": {
          "base_uri": "https://localhost:8080/"
        },
        "id": "eh-InMDWlWmI",
        "outputId": "3495c234-b382-4ed3-d6ec-134a715bedee"
      },
      "source": [
        "var4 = 1 + 2\r\n",
        "type(var4) # int"
      ],
      "execution_count": null,
      "outputs": [
        {
          "output_type": "execute_result",
          "data": {
            "text/plain": [
              "int"
            ]
          },
          "metadata": {
            "tags": []
          },
          "execution_count": 12
        }
      ]
    },
    {
      "cell_type": "code",
      "metadata": {
        "id": "Fjsy4o68llrY",
        "colab": {
          "base_uri": "https://localhost:8080/",
          "height": 35
        },
        "outputId": "0cbd97ac-f3f7-42b2-8b60-78d6d5e38479"
      },
      "source": [
        "# 문자열\r\n",
        "str1 = \"Hello\"\r\n",
        "str1 "
      ],
      "execution_count": 13,
      "outputs": [
        {
          "output_type": "execute_result",
          "data": {
            "application/vnd.google.colaboratory.intrinsic+json": {
              "type": "string"
            },
            "text/plain": [
              "'Hello'"
            ]
          },
          "metadata": {
            "tags": []
          },
          "execution_count": 13
        }
      ]
    },
    {
      "cell_type": "code",
      "metadata": {
        "colab": {
          "base_uri": "https://localhost:8080/"
        },
        "id": "OJ1C2q3umPoQ",
        "outputId": "e948523f-8b85-478a-a023-44409e34d2e9"
      },
      "source": [
        "print(type(str1)) # String"
      ],
      "execution_count": 14,
      "outputs": [
        {
          "output_type": "stream",
          "text": [
            "<class 'str'>\n"
          ],
          "name": "stdout"
        }
      ]
    },
    {
      "cell_type": "code",
      "metadata": {
        "colab": {
          "base_uri": "https://localhost:8080/",
          "height": 35
        },
        "id": "MLPatuEymTZr",
        "outputId": "b539d335-f927-4115-a888-c79b66d5c6ca"
      },
      "source": [
        "str2 = \"Hello World!\"\r\n",
        "str2 # 공백 포함"
      ],
      "execution_count": 15,
      "outputs": [
        {
          "output_type": "execute_result",
          "data": {
            "application/vnd.google.colaboratory.intrinsic+json": {
              "type": "string"
            },
            "text/plain": [
              "'Hello World!'"
            ]
          },
          "metadata": {
            "tags": []
          },
          "execution_count": 15
        }
      ]
    },
    {
      "cell_type": "code",
      "metadata": {
        "colab": {
          "base_uri": "https://localhost:8080/"
        },
        "id": "7UouMUDVmjAK",
        "outputId": "b24af73d-3e1a-44ac-9859-f0895c68dd53"
      },
      "source": [
        "print(type(str2)) # String"
      ],
      "execution_count": 16,
      "outputs": [
        {
          "output_type": "stream",
          "text": [
            "<class 'str'>\n"
          ],
          "name": "stdout"
        }
      ]
    },
    {
      "cell_type": "code",
      "metadata": {
        "colab": {
          "base_uri": "https://localhost:8080/"
        },
        "id": "1px17bmmmomn",
        "outputId": "44e90c29-cd8a-493f-9367-13570c81aa0e"
      },
      "source": [
        "len(str2) # 길이: 공백포함 12"
      ],
      "execution_count": 17,
      "outputs": [
        {
          "output_type": "execute_result",
          "data": {
            "text/plain": [
              "12"
            ]
          },
          "metadata": {
            "tags": []
          },
          "execution_count": 17
        }
      ]
    },
    {
      "cell_type": "code",
      "metadata": {
        "colab": {
          "base_uri": "https://localhost:8080/"
        },
        "id": "vtvGAIIom4fY",
        "outputId": "54e6dd28-de13-4761-9c27-e9d9bf7e30c2"
      },
      "source": [
        "# 문자열 인덱싱\r\n",
        "print(str1[0]) # 앞에서부터 순서를 셀 때는 첫 원소의 위치를 인덱스 0(H)이라고 표시"
      ],
      "execution_count": 27,
      "outputs": [
        {
          "output_type": "stream",
          "text": [
            "H\n"
          ],
          "name": "stdout"
        }
      ]
    },
    {
      "cell_type": "code",
      "metadata": {
        "colab": {
          "base_uri": "https://localhost:8080/"
        },
        "id": "PEElBc58nVX-",
        "outputId": "f5d4c438-9bda-49e5-c2c9-fd48a1efeddb"
      },
      "source": [
        "print(str1[4]) # 그래서 글자수가 5글자 이므로 인덱스 4(o)"
      ],
      "execution_count": 22,
      "outputs": [
        {
          "output_type": "stream",
          "text": [
            "o\n"
          ],
          "name": "stdout"
        }
      ]
    },
    {
      "cell_type": "code",
      "metadata": {
        "colab": {
          "base_uri": "https://localhost:8080/"
        },
        "id": "IAUxkTeTnpNg",
        "outputId": "5b1d0553-2a1f-478c-f906-dd26dfe0ad2d"
      },
      "source": [
        "print(str1[-1]) # 뒤에서부터 순서를 셀 때는 마지막 원소의 위치를 인덱스 -1(o)이라고 표시"
      ],
      "execution_count": 24,
      "outputs": [
        {
          "output_type": "stream",
          "text": [
            "o\n"
          ],
          "name": "stdout"
        }
      ]
    },
    {
      "cell_type": "code",
      "metadata": {
        "colab": {
          "base_uri": "https://localhost:8080/"
        },
        "id": "6xtpaCJ1oWcy",
        "outputId": "140704c6-47d1-4e49-e7e3-4efca2c4588c"
      },
      "source": [
        "print(str1[-5]) # 그래서 그자수가 5글자 이므로  인덱스 -5(H)"
      ],
      "execution_count": 26,
      "outputs": [
        {
          "output_type": "stream",
          "text": [
            "H\n"
          ],
          "name": "stdout"
        }
      ]
    },
    {
      "cell_type": "code",
      "metadata": {
        "colab": {
          "base_uri": "https://localhost:8080/",
          "height": 35
        },
        "id": "uGCrtQMbpUXE",
        "outputId": "952e019c-6b44-4875-cbae-0a8cd9aaf6f8"
      },
      "source": [
        "# 문자열 슬라이싱(인덱스 범위를 지정 -> 여러개의 원소를 추출 [시작 인덱스 : 끝 인덱스] )\r\n",
        "str1[0:4] # 앞에서 부터 순서를 셀 때 인덱스 5인 o는 포함되지 않으므로 포함 X"
      ],
      "execution_count": 28,
      "outputs": [
        {
          "output_type": "execute_result",
          "data": {
            "application/vnd.google.colaboratory.intrinsic+json": {
              "type": "string"
            },
            "text/plain": [
              "'Hell'"
            ]
          },
          "metadata": {
            "tags": []
          },
          "execution_count": 28
        }
      ]
    },
    {
      "cell_type": "code",
      "metadata": {
        "colab": {
          "base_uri": "https://localhost:8080/",
          "height": 35
        },
        "id": "dn6ZX6dEqVoA",
        "outputId": "0245b2a3-dc46-474a-c2e2-20aac181ea05"
      },
      "source": [
        "str1[-4:] # 끝 인덱스를 지정하지 않으면 끝 인덱스 위치에 해당하는 문자까지 포함함 -> ello"
      ],
      "execution_count": 29,
      "outputs": [
        {
          "output_type": "execute_result",
          "data": {
            "application/vnd.google.colaboratory.intrinsic+json": {
              "type": "string"
            },
            "text/plain": [
              "'ello'"
            ]
          },
          "metadata": {
            "tags": []
          },
          "execution_count": 29
        }
      ]
    },
    {
      "cell_type": "code",
      "metadata": {
        "colab": {
          "base_uri": "https://localhost:8080/",
          "height": 35
        },
        "id": "7cCCyVqcq-P7",
        "outputId": "e76d8834-bf73-4038-b76e-dc81e716a7e9"
      },
      "source": [
        "# 문자열 중간에 문자열 끼워 넣기\r\n",
        "str3 = \"%s Github!\" % str1 # %s는 문자열을 넣을 위치, 뒤의 % str1이 %s 자리에 str1을 넣겠다는 의미 -> Hello Github! \r\n",
        "str3"
      ],
      "execution_count": 32,
      "outputs": [
        {
          "output_type": "execute_result",
          "data": {
            "application/vnd.google.colaboratory.intrinsic+json": {
              "type": "string"
            },
            "text/plain": [
              "'Hello Github!'"
            ]
          },
          "metadata": {
            "tags": []
          },
          "execution_count": 32
        }
      ]
    },
    {
      "cell_type": "code",
      "metadata": {
        "id": "7qb4vzzmrucW"
      },
      "source": [
        ""
      ],
      "execution_count": null,
      "outputs": []
    }
  ]
}
