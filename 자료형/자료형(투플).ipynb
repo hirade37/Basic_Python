{
  "nbformat": 4,
  "nbformat_minor": 0,
  "metadata": {
    "colab": {
      "name": "자료형(투플).ipynb",
      "provenance": [],
      "collapsed_sections": [],
      "authorship_tag": "ABX9TyPo8jqxEcMAj2HolwjYZxk+",
      "include_colab_link": true
    },
    "kernelspec": {
      "name": "python3",
      "display_name": "Python 3"
    }
  },
  "cells": [
    {
      "cell_type": "markdown",
      "metadata": {
        "id": "view-in-github",
        "colab_type": "text"
      },
      "source": [
        "<a href=\"https://colab.research.google.com/github/hirade37/Basic_Python-Machine_Learning/blob/main/%EC%9E%90%EB%A3%8C%ED%98%95/%EC%9E%90%EB%A3%8C%ED%98%95(%ED%88%AC%ED%94%8C).ipynb\" target=\"_parent\"><img src=\"https://colab.research.google.com/assets/colab-badge.svg\" alt=\"Open In Colab\"/></a>"
      ]
    },
    {
      "cell_type": "code",
      "metadata": {
        "colab": {
          "base_uri": "https://localhost:8080/"
        },
        "id": "LXlm-7iXHe4U",
        "outputId": "2cf3d33e-4271-4975-9c4d-b7d5333cddcf"
      },
      "source": [
        "# 투플 ( Tuple ) - 리스트 자료구조와 비슷 ( 투플은 () 안에 원소 입력,  하지만 원소 추가, 삭제는 X )\r\n",
        "tuple1 = (0, 1, 2)\r\n",
        "print(tuple1) # (0, 1, 2)"
      ],
      "execution_count": 10,
      "outputs": [
        {
          "output_type": "stream",
          "text": [
            "(0, 1, 2)\n"
          ],
          "name": "stdout"
        }
      ]
    },
    {
      "cell_type": "code",
      "metadata": {
        "colab": {
          "base_uri": "https://localhost:8080/"
        },
        "id": "LxACScxwI8oL",
        "outputId": "7cb3e9d6-6948-4bb1-a5d1-a67666134a29"
      },
      "source": [
        "print(type(tuple1)) # 자료형 확인"
      ],
      "execution_count": 11,
      "outputs": [
        {
          "output_type": "stream",
          "text": [
            "<class 'tuple'>\n"
          ],
          "name": "stdout"
        }
      ]
    },
    {
      "cell_type": "code",
      "metadata": {
        "colab": {
          "base_uri": "https://localhost:8080/"
        },
        "id": "1ca5R5f3JWbs",
        "outputId": "344be040-17ec-42bc-886f-1be9315a04c9"
      },
      "source": [
        "# 원소가 없는 빈 투플 만들기 \r\n",
        "tuple2 = ()\r\n",
        "print(tuple2) # ()"
      ],
      "execution_count": 12,
      "outputs": [
        {
          "output_type": "stream",
          "text": [
            "()\n"
          ],
          "name": "stdout"
        }
      ]
    },
    {
      "cell_type": "code",
      "metadata": {
        "colab": {
          "base_uri": "https://localhost:8080/"
        },
        "id": "fas47UE4Ml1z",
        "outputId": "3668be96-9660-4a12-ae5e-6aeb61fae232"
      },
      "source": [
        "# 투플 인덱싱 - 리스트 인덱싱과 비슷\r\n",
        "tuple1[0] # 0"
      ],
      "execution_count": 13,
      "outputs": [
        {
          "output_type": "execute_result",
          "data": {
            "text/plain": [
              "0"
            ]
          },
          "metadata": {
            "tags": []
          },
          "execution_count": 13
        }
      ]
    },
    {
      "cell_type": "code",
      "metadata": {
        "colab": {
          "base_uri": "https://localhost:8080/"
        },
        "id": "F-cwEQeWM56e",
        "outputId": "850d896f-4ce5-4680-dae5-b72ff50a5874"
      },
      "source": [
        "tuple1[-1] # 2"
      ],
      "execution_count": 14,
      "outputs": [
        {
          "output_type": "execute_result",
          "data": {
            "text/plain": [
              "2"
            ]
          },
          "metadata": {
            "tags": []
          },
          "execution_count": 14
        }
      ]
    },
    {
      "cell_type": "code",
      "metadata": {
        "colab": {
          "base_uri": "https://localhost:8080/"
        },
        "id": "YiMVTFJYM8-9",
        "outputId": "1f730076-188f-4774-9366-4c4bd876d30f"
      },
      "source": [
        "# 투플 인덱싱 슬라이싱\r\n",
        "tuple1[0:3] # (0, 1, 2)"
      ],
      "execution_count": 15,
      "outputs": [
        {
          "output_type": "execute_result",
          "data": {
            "text/plain": [
              "(0, 1, 2)"
            ]
          },
          "metadata": {
            "tags": []
          },
          "execution_count": 15
        }
      ]
    }
  ]
}