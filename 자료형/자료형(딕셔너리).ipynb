{
  "nbformat": 4,
  "nbformat_minor": 0,
  "metadata": {
    "colab": {
      "name": "자료형(딕셔너리).ipynb",
      "provenance": [],
      "collapsed_sections": [],
      "authorship_tag": "ABX9TyNSjSI8SS7fxNu+u4csPimE",
      "include_colab_link": true
    },
    "kernelspec": {
      "name": "python3",
      "display_name": "Python 3"
    }
  },
  "cells": [
    {
      "cell_type": "markdown",
      "metadata": {
        "id": "view-in-github",
        "colab_type": "text"
      },
      "source": [
        "<a href=\"https://colab.research.google.com/github/hirade37/Basic_Python-Machine_Learning/blob/main/%EC%9E%90%EB%A3%8C%ED%98%95/%EC%9E%90%EB%A3%8C%ED%98%95(%EB%94%95%EC%85%94%EB%84%88%EB%A6%AC).ipynb\" target=\"_parent\"><img src=\"https://colab.research.google.com/assets/colab-badge.svg\" alt=\"Open In Colab\"/></a>"
      ]
    },
    {
      "cell_type": "code",
      "metadata": {
        "colab": {
          "base_uri": "https://localhost:8080/"
        },
        "id": "yM_avFEwOjhx",
        "outputId": "f3b71579-f67d-4175-8e2b-55d102ca3f9a"
      },
      "source": [
        "# 딕셔너리 ( Dictionary ) - 연관 배열 ( 대응 관계 )\r\n",
        "\r\n",
        "#         key1      value1   key2   value2 \r\n",
        "dict1 = {'name' : 'Inchang', 'age' : '18'}\r\n",
        "print(dict1) # {'name': 'Inchang', 'age': '18'}"
      ],
      "execution_count": 1,
      "outputs": [
        {
          "output_type": "stream",
          "text": [
            "{'name': 'Inchang', 'age': '18'}\n"
          ],
          "name": "stdout"
        }
      ]
    },
    {
      "cell_type": "code",
      "metadata": {
        "colab": {
          "base_uri": "https://localhost:8080/"
        },
        "id": "ysuIfh_7PWZ9",
        "outputId": "65ec5166-2eb7-40f9-a03c-5c20997d0ecc"
      },
      "source": [
        "type(dict1) # 자료형 확인 - dict"
      ],
      "execution_count": 2,
      "outputs": [
        {
          "output_type": "execute_result",
          "data": {
            "text/plain": [
              "dict"
            ]
          },
          "metadata": {
            "tags": []
          },
          "execution_count": 2
        }
      ]
    },
    {
      "cell_type": "code",
      "metadata": {
        "colab": {
          "base_uri": "https://localhost:8080/",
          "height": 35
        },
        "id": "KT47-u4aPc76",
        "outputId": "f1b9b015-2600-44a3-99cd-616ae496566b"
      },
      "source": [
        "# key를 입력 -> 매칭 value 추출\r\n",
        "\r\n",
        "dict1['name'] # 'Inchang'"
      ],
      "execution_count": 3,
      "outputs": [
        {
          "output_type": "execute_result",
          "data": {
            "application/vnd.google.colaboratory.intrinsic+json": {
              "type": "string"
            },
            "text/plain": [
              "'Inchang'"
            ]
          },
          "metadata": {
            "tags": []
          },
          "execution_count": 3
        }
      ]
    },
    {
      "cell_type": "code",
      "metadata": {
        "colab": {
          "base_uri": "https://localhost:8080/",
          "height": 35
        },
        "id": "IoTJ5Tn-Qbvj",
        "outputId": "fb0197c0-ec2c-48ab-8946-2d7dc11ef9f8"
      },
      "source": [
        "dict1['age'] # 18"
      ],
      "execution_count": 4,
      "outputs": [
        {
          "output_type": "execute_result",
          "data": {
            "application/vnd.google.colaboratory.intrinsic+json": {
              "type": "string"
            },
            "text/plain": [
              "'18'"
            ]
          },
          "metadata": {
            "tags": []
          },
          "execution_count": 4
        }
      ]
    },
    {
      "cell_type": "code",
      "metadata": {
        "colab": {
          "base_uri": "https://localhost:8080/"
        },
        "id": "BRXS26GGQs1s",
        "outputId": "75008d8d-d9aa-4cf3-f85a-7a63b259ca30"
      },
      "source": [
        "# 딕셔너리 원소 추가하기\r\n",
        "\r\n",
        "dict1['weather'] = ['cloud', 'sunny', 'rain']\r\n",
        "print(dict1) # {'name': 'Inchang', 'age': '18', 'weather': ['cloud', 'sunny', 'rain']}"
      ],
      "execution_count": 5,
      "outputs": [
        {
          "output_type": "stream",
          "text": [
            "{'name': 'Inchang', 'age': '18', 'weather': ['cloud', 'sunny', 'rain']}\n"
          ],
          "name": "stdout"
        }
      ]
    },
    {
      "cell_type": "code",
      "metadata": {
        "colab": {
          "base_uri": "https://localhost:8080/"
        },
        "id": "dfKlqSfERI2Q",
        "outputId": "168112d5-ca7b-4497-d7bd-a4facaf7a964"
      },
      "source": [
        "# 딕셔너리 key 추출 - keys()\r\n",
        "\r\n",
        "dict1.keys() # dict_keys(['name', 'age', 'weather'])"
      ],
      "execution_count": 6,
      "outputs": [
        {
          "output_type": "execute_result",
          "data": {
            "text/plain": [
              "dict_keys(['name', 'age', 'weather'])"
            ]
          },
          "metadata": {
            "tags": []
          },
          "execution_count": 6
        }
      ]
    },
    {
      "cell_type": "code",
      "metadata": {
        "colab": {
          "base_uri": "https://localhost:8080/"
        },
        "id": "6U_kUKn6R_li",
        "outputId": "976dd553-2ab8-4521-81fe-a242a229f756"
      },
      "source": [
        "# 딕셔너리 value 추출 - values()\r\n",
        "\r\n",
        "dict1.values() # dict_values(['Inchang', '18', ['cloud', 'sunny', 'rain']])"
      ],
      "execution_count": 7,
      "outputs": [
        {
          "output_type": "execute_result",
          "data": {
            "text/plain": [
              "dict_values(['Inchang', '18', ['cloud', 'sunny', 'rain']])"
            ]
          },
          "metadata": {
            "tags": []
          },
          "execution_count": 7
        }
      ]
    },
    {
      "cell_type": "code",
      "metadata": {
        "colab": {
          "base_uri": "https://localhost:8080/"
        },
        "id": "UOPd_JvVSMUe",
        "outputId": "3dae7979-98fc-424c-d57e-7c9a70770cf7"
      },
      "source": [
        "# (key, value) 형태로 추출 - items()\r\n",
        "\r\n",
        "dict1.items() # dict_items([('name', 'Inchang'), ('age', '18'), ('weather', ['cloud', 'sunny', 'rain'])])"
      ],
      "execution_count": 8,
      "outputs": [
        {
          "output_type": "execute_result",
          "data": {
            "text/plain": [
              "dict_items([('name', 'Inchang'), ('age', '18'), ('weather', ['cloud', 'sunny', 'rain'])])"
            ]
          },
          "metadata": {
            "tags": []
          },
          "execution_count": 8
        }
      ]
    }
  ]
}