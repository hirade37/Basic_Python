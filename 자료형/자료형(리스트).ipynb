{
  "nbformat": 4,
  "nbformat_minor": 0,
  "metadata": {
    "colab": {
      "name": "자료형(리스트).ipynb",
      "provenance": [],
      "authorship_tag": "ABX9TyOkWR2fQ8KjRCVDiXifUkK+"
    },
    "kernelspec": {
      "name": "python3",
      "display_name": "Python 3"
    }
  },
  "cells": [
    {
      "cell_type": "code",
      "metadata": {
        "colab": {
          "base_uri": "https://localhost:8080/"
        },
        "id": "6LBxQb2E-f-d",
        "outputId": "4dd37f18-c150-4166-80a3-cbe26df77e89"
      },
      "source": [
        "# 리스트 - 여러개의 원소를 담는 꾸러미\r\n",
        "list1 = [1,2,3,4,5]\r\n",
        "list1"
      ],
      "execution_count": 1,
      "outputs": [
        {
          "output_type": "execute_result",
          "data": {
            "text/plain": [
              "[1, 2, 3, 4, 5]"
            ]
          },
          "metadata": {
            "tags": []
          },
          "execution_count": 1
        }
      ]
    },
    {
      "cell_type": "code",
      "metadata": {
        "colab": {
          "base_uri": "https://localhost:8080/"
        },
        "id": "IBbK7Lek_k44",
        "outputId": "625bfb2c-0a53-45de-e9e3-b6393b0af2d6"
      },
      "source": [
        "print(type(list1)) # 자료형 확인 - list"
      ],
      "execution_count": 2,
      "outputs": [
        {
          "output_type": "stream",
          "text": [
            "<class 'list'>\n"
          ],
          "name": "stdout"
        }
      ]
    },
    {
      "cell_type": "code",
      "metadata": {
        "colab": {
          "base_uri": "https://localhost:8080/"
        },
        "id": "ocF2ujAb_1AA",
        "outputId": "dbb452b0-bc2c-4bfa-dbb0-95cbe16853cc"
      },
      "source": [
        "list2= list() # 원소가 없는 빈 리스트 생성\r\n",
        "print(list2) # []"
      ],
      "execution_count": 3,
      "outputs": [
        {
          "output_type": "stream",
          "text": [
            "[]\n"
          ],
          "name": "stdout"
        }
      ]
    },
    {
      "cell_type": "code",
      "metadata": {
        "colab": {
          "base_uri": "https://localhost:8080/"
        },
        "id": "qyBWxMkTAPJ1",
        "outputId": "081c1206-be7b-462a-c22b-4ec6c72ebaa5"
      },
      "source": [
        "list3 = [] # 이와 같은 방법으로도 빈 리스트 생성이 가능\r\n",
        "print(list3) # []"
      ],
      "execution_count": 4,
      "outputs": [
        {
          "output_type": "stream",
          "text": [
            "[]\n"
          ],
          "name": "stdout"
        }
      ]
    },
    {
      "cell_type": "code",
      "metadata": {
        "colab": {
          "base_uri": "https://localhost:8080/"
        },
        "id": "qJ22ahpZAplE",
        "outputId": "2132c3ee-67c1-4d89-b50b-e447d7002f8a"
      },
      "source": [
        "list4 = [list1, list2, list3] # 리스트를 원소로 갖는 리스트\r\n",
        "print(list4) # [[1, 2, 3, 4, 5], [], []]"
      ],
      "execution_count": 5,
      "outputs": [
        {
          "output_type": "stream",
          "text": [
            "[[1, 2, 3, 4, 5], [], []]\n"
          ],
          "name": "stdout"
        }
      ]
    },
    {
      "cell_type": "code",
      "metadata": {
        "colab": {
          "base_uri": "https://localhost:8080/"
        },
        "id": "dywdzCyKBBqe",
        "outputId": "b44201f7-8f8c-4ea9-c18e-1d8c8a940abe"
      },
      "source": [
        "print(type(list4)) # 자료형 확인 - list"
      ],
      "execution_count": 6,
      "outputs": [
        {
          "output_type": "stream",
          "text": [
            "<class 'list'>\n"
          ],
          "name": "stdout"
        }
      ]
    },
    {
      "cell_type": "code",
      "metadata": {
        "colab": {
          "base_uri": "https://localhost:8080/"
        },
        "id": "RkdFpZiQBSbv",
        "outputId": "0ee94ee7-fd0f-4bad-f0d7-589a36c64f37"
      },
      "source": [
        "# 리스트 인덱싱 ( 문자열의 인덱싱과 유사 )\r\n",
        "list4[0] # [1, 2, 3, 4, 5]"
      ],
      "execution_count": 7,
      "outputs": [
        {
          "output_type": "execute_result",
          "data": {
            "text/plain": [
              "[1, 2, 3, 4, 5]"
            ]
          },
          "metadata": {
            "tags": []
          },
          "execution_count": 7
        }
      ]
    },
    {
      "cell_type": "code",
      "metadata": {
        "colab": {
          "base_uri": "https://localhost:8080/"
        },
        "id": "3mXTH-HJB7aX",
        "outputId": "4c7e836e-d827-4027-a532-0c7ac56a6693"
      },
      "source": [
        "# list[0]의 원소 중에서 인덱스 0의 원소 추출\r\n",
        "list4[0][0] # 1"
      ],
      "execution_count": 8,
      "outputs": [
        {
          "output_type": "execute_result",
          "data": {
            "text/plain": [
              "1"
            ]
          },
          "metadata": {
            "tags": []
          },
          "execution_count": 8
        }
      ]
    },
    {
      "cell_type": "code",
      "metadata": {
        "colab": {
          "base_uri": "https://localhost:8080/"
        },
        "id": "_6gZ3sr0CTqT",
        "outputId": "2c151800-d182-4d73-df77-6cb441d1dec3"
      },
      "source": [
        "# 인덱스를 뒤에서 세는 것도 가능\r\n",
        "list4[-3] # [1, 2, 3, 4, 5]"
      ],
      "execution_count": 9,
      "outputs": [
        {
          "output_type": "execute_result",
          "data": {
            "text/plain": [
              "[1, 2, 3, 4, 5]"
            ]
          },
          "metadata": {
            "tags": []
          },
          "execution_count": 9
        }
      ]
    },
    {
      "cell_type": "code",
      "metadata": {
        "colab": {
          "base_uri": "https://localhost:8080/"
        },
        "id": "aWoJYUgHCmue",
        "outputId": "c39707e3-b31b-4257-e3c8-4f967e5fd4a8"
      },
      "source": [
        "# 리스트 슬라이싱 ( 문자열 슬라이싱과 유사 )\r\n",
        "list4[0:3] # [[1, 2, 3, 4, 5], [], []]"
      ],
      "execution_count": 10,
      "outputs": [
        {
          "output_type": "execute_result",
          "data": {
            "text/plain": [
              "[[1, 2, 3, 4, 5], [], []]"
            ]
          },
          "metadata": {
            "tags": []
          },
          "execution_count": 10
        }
      ]
    },
    {
      "cell_type": "code",
      "metadata": {
        "colab": {
          "base_uri": "https://localhost:8080/"
        },
        "id": "148bJA6oDEIf",
        "outputId": "8f025d05-1832-40e5-d831-6ab30f1dce06"
      },
      "source": [
        "# 리스트에 새로운 원소 추가 - append 메소드\r\n",
        "list4.append(37) # list4에 37 추가\r\n",
        "print(list4) # [[1, 2, 3, 4, 5], [], [], 37]"
      ],
      "execution_count": 11,
      "outputs": [
        {
          "output_type": "stream",
          "text": [
            "[[1, 2, 3, 4, 5], [], [], 37]\n"
          ],
          "name": "stdout"
        }
      ]
    },
    {
      "cell_type": "code",
      "metadata": {
        "colab": {
          "base_uri": "https://localhost:8080/"
        },
        "id": "4kJ3QgENDjVK",
        "outputId": "9103812c-d343-41cb-ad28-06ef820bfc02"
      },
      "source": [
        "list3.append(0)\r\n",
        "list3.append(1)\r\n",
        "list3.append(2)\r\n",
        "list3.append(3)\r\n",
        "print(list3) # [0, 1, 2, 3] - 순서대로 추가됨"
      ],
      "execution_count": 12,
      "outputs": [
        {
          "output_type": "stream",
          "text": [
            "[0, 1, 2, 3]\n"
          ],
          "name": "stdout"
        }
      ]
    }
  ]
}