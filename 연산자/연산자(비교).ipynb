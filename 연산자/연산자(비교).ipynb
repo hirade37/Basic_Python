{
  "nbformat": 4,
  "nbformat_minor": 0,
  "metadata": {
    "colab": {
      "name": "연산자(비교).ipynb",
      "provenance": [],
      "collapsed_sections": [],
      "authorship_tag": "ABX9TyNM/3xomkPwiFfUYD/qzkZZ",
      "include_colab_link": true
    },
    "kernelspec": {
      "name": "python3",
      "display_name": "Python 3"
    }
  },
  "cells": [
    {
      "cell_type": "markdown",
      "metadata": {
        "id": "view-in-github",
        "colab_type": "text"
      },
      "source": [
        "<a href=\"https://colab.research.google.com/github/hirade37/Basic_Python-Machine_Learning/blob/main/%EC%97%B0%EC%82%B0%EC%9E%90/%EC%97%B0%EC%82%B0%EC%9E%90(%EB%B9%84%EA%B5%90).ipynb\" target=\"_parent\"><img src=\"https://colab.research.google.com/assets/colab-badge.svg\" alt=\"Open In Colab\"/></a>"
      ]
    },
    {
      "cell_type": "code",
      "metadata": {
        "colab": {
          "base_uri": "https://localhost:8080/"
        },
        "id": "6U67DGPWTp9T",
        "outputId": "d2ebb5d3-80ca-4e65-f658-e1949b099bea"
      },
      "source": [
        "# 연산자 ( 비교 )\r\n",
        "\r\n",
        "''' 연산자 == '''\r\n",
        "\r\n",
        "print( 0 == 0 ) # '==' 연산자는 서로 같다는 의미 - True\r\n",
        "print( 0 == 1) # False\r\n",
        "print( 'aaa' == 'bbb' ) # False - 문자열도 가능"
      ],
      "execution_count": 1,
      "outputs": [
        {
          "output_type": "stream",
          "text": [
            "True\n",
            "False\n",
            "False\n"
          ],
          "name": "stdout"
        }
      ]
    },
    {
      "cell_type": "code",
      "metadata": {
        "colab": {
          "base_uri": "https://localhost:8080/"
        },
        "id": "PeUS0mhIZfHQ",
        "outputId": "8e9ceb24-2ba2-4ca1-ddbb-e11a78ed5e8d"
      },
      "source": [
        "''' 연산자 != '''\r\n",
        "\r\n",
        "print( 0 != 0) # '!=' 연산자는 서로 다르다는 의미 - False\r\n",
        "print( 0 != 1 ) # True"
      ],
      "execution_count": 2,
      "outputs": [
        {
          "output_type": "stream",
          "text": [
            "False\n",
            "True\n"
          ],
          "name": "stdout"
        }
      ]
    },
    {
      "cell_type": "code",
      "metadata": {
        "colab": {
          "base_uri": "https://localhost:8080/"
        },
        "id": "3pU_-N1yati5",
        "outputId": "b65f5b2f-4fe8-4909-caca-83ec82aaeab6"
      },
      "source": [
        "# 부등식 비교\r\n",
        "\r\n",
        "print( 0 > 1 ) # False\r\n",
        "print( 0 >= 1 ) # False\r\n",
        "print( 0 <= 1 ) # True\r\n",
        "print( 0 < 1 ) # True"
      ],
      "execution_count": 3,
      "outputs": [
        {
          "output_type": "stream",
          "text": [
            "False\n",
            "False\n",
            "True\n",
            "True\n"
          ],
          "name": "stdout"
        }
      ]
    },
    {
      "cell_type": "code",
      "metadata": {
        "colab": {
          "base_uri": "https://localhost:8080/"
        },
        "id": "wYqoJz0RaJ3O",
        "outputId": "a7767863-2ccf-4ffd-8731-720af3fe25eb"
      },
      "source": [
        "# 변수값 비교\r\n",
        "\r\n",
        "var1 = 'aaa'\r\n",
        "var2 = 'bbb'\r\n",
        "\r\n",
        "print( var1 == var2) # False\r\n",
        "print( var1 != var2) # True"
      ],
      "execution_count": 4,
      "outputs": [
        {
          "output_type": "stream",
          "text": [
            "False\n",
            "True\n"
          ],
          "name": "stdout"
        }
      ]
    },
    {
      "cell_type": "code",
      "metadata": {
        "colab": {
          "base_uri": "https://localhost:8080/"
        },
        "id": "7Z0J3u2zbbgf",
        "outputId": "8a6703fb-4795-4b4f-ebd4-2515785809c8"
      },
      "source": [
        "# 논리곱 비교\r\n",
        "\r\n",
        "print( 0 > 1 and 0 < 1) # False\r\n",
        "print( 0 < 1 and  0 <= 1) #True"
      ],
      "execution_count": 5,
      "outputs": [
        {
          "output_type": "stream",
          "text": [
            "False\n",
            "True\n"
          ],
          "name": "stdout"
        }
      ]
    },
    {
      "cell_type": "code",
      "metadata": {
        "colab": {
          "base_uri": "https://localhost:8080/"
        },
        "id": "pmV-CyFdbuUq",
        "outputId": "489c41cc-06b3-4e0a-95af-201f985af9ac"
      },
      "source": [
        "# 논리합 비교\r\n",
        "\r\n",
        "print( 0 > 1 or 0 < 1 ) # True\r\n",
        "print( 0 > 1 or 0 >= 1) # False"
      ],
      "execution_count": 6,
      "outputs": [
        {
          "output_type": "stream",
          "text": [
            "True\n",
            "False\n"
          ],
          "name": "stdout"
        }
      ]
    },
    {
      "cell_type": "code",
      "metadata": {
        "colab": {
          "base_uri": "https://localhost:8080/"
        },
        "id": "i80Rap7ccHgm",
        "outputId": "b99ca94b-d4ae-450f-c649-5a10dd8e3101"
      },
      "source": [
        "# 추가로\r\n",
        "\r\n",
        "not '0'!='0' # '0'!='0' -> False 이므로 --> True"
      ],
      "execution_count": 7,
      "outputs": [
        {
          "output_type": "execute_result",
          "data": {
            "text/plain": [
              "True"
            ]
          },
          "metadata": {
            "tags": []
          },
          "execution_count": 7
        }
      ]
    }
  ]
}