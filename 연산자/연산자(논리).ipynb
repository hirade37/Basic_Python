{
  "nbformat": 4,
  "nbformat_minor": 0,
  "metadata": {
    "colab": {
      "name": "연산자(논리).ipynb",
      "provenance": [],
      "collapsed_sections": [],
      "authorship_tag": "ABX9TyPjBaRDcCRvrRuLKMiGk9is",
      "include_colab_link": true
    },
    "kernelspec": {
      "name": "python3",
      "display_name": "Python 3"
    }
  },
  "cells": [
    {
      "cell_type": "markdown",
      "metadata": {
        "id": "view-in-github",
        "colab_type": "text"
      },
      "source": [
        "<a href=\"https://colab.research.google.com/github/hirade37/Basic_Python-Machine_Learning/blob/main/%EC%97%B0%EC%82%B0%EC%9E%90/%EC%97%B0%EC%82%B0%EC%9E%90(%EB%85%BC%EB%A6%AC).ipynb\" target=\"_parent\"><img src=\"https://colab.research.google.com/assets/colab-badge.svg\" alt=\"Open In Colab\"/></a>"
      ]
    },
    {
      "cell_type": "code",
      "metadata": {
        "colab": {
          "base_uri": "https://localhost:8080/"
        },
        "id": "r7X8ui2TTpnE",
        "outputId": "e6f25282-9d40-48d0-91a2-011d2cd1fa9c"
      },
      "source": [
        "# 연산자 ( 논리 ) - 참 ( True ), 거짓 ( False ) 판별\r\n",
        "\r\n",
        "type(True) # 자료형 확인 - bool ( boolean의 약자 )"
      ],
      "execution_count": 1,
      "outputs": [
        {
          "output_type": "execute_result",
          "data": {
            "text/plain": [
              "bool"
            ]
          },
          "metadata": {
            "tags": []
          },
          "execution_count": 1
        }
      ]
    },
    {
      "cell_type": "code",
      "metadata": {
        "colab": {
          "base_uri": "https://localhost:8080/"
        },
        "id": "6D2PFTqzW1QO",
        "outputId": "d1d5303d-df05-4d31-9215-34b3e8cf45d1"
      },
      "source": [
        "# 논리곱 ( 둘 모두 True ) --> P and Q , P ∧ Q\r\n",
        "\r\n",
        "print(True and True) # True\r\n",
        "print(True and False) # False"
      ],
      "execution_count": 2,
      "outputs": [
        {
          "output_type": "stream",
          "text": [
            "True\n",
            "False\n"
          ],
          "name": "stdout"
        }
      ]
    },
    {
      "cell_type": "code",
      "metadata": {
        "colab": {
          "base_uri": "https://localhost:8080/"
        },
        "id": "YpUXojLWXVsM",
        "outputId": "7483b417-8978-42eb-f35a-5d7ba6801b31"
      },
      "source": [
        "# 논리합 ( 둘 중에 하나라도 True - or ) --> P or Q , P ∨ Q\r\n",
        "\r\n",
        "print(True or False) # True\r\n",
        "print(False or False) # False"
      ],
      "execution_count": 3,
      "outputs": [
        {
          "output_type": "stream",
          "text": [
            "True\n",
            "False\n"
          ],
          "name": "stdout"
        }
      ]
    }
  ]
}