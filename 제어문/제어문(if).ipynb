{
  "nbformat": 4,
  "nbformat_minor": 0,
  "metadata": {
    "colab": {
      "name": "제어문(if).ipynb",
      "provenance": [],
      "authorship_tag": "ABX9TyMgBs1xyrRWP5pxkEE5nVYe",
      "include_colab_link": true
    },
    "kernelspec": {
      "name": "python3",
      "display_name": "Python 3"
    }
  },
  "cells": [
    {
      "cell_type": "markdown",
      "metadata": {
        "id": "view-in-github",
        "colab_type": "text"
      },
      "source": [
        "<a href=\"https://colab.research.google.com/github/hirade37/Basic_Python-Machine_Learning/blob/main/%EC%A0%9C%EC%96%B4%EB%AC%B8/%EC%A0%9C%EC%96%B4%EB%AC%B8(if).ipynb\" target=\"_parent\"><img src=\"https://colab.research.google.com/assets/colab-badge.svg\" alt=\"Open In Colab\"/></a>"
      ]
    },
    {
      "cell_type": "code",
      "metadata": {
        "colab": {
          "base_uri": "https://localhost:8080/"
        },
        "id": "-R39scUIeeah",
        "outputId": "b6268ab7-2ca6-47a5-d771-8b9388aa6bdb"
      },
      "source": [
        "# 제어문 ( if )\r\n",
        "\r\n",
        "''' if ~ 문 '''\r\n",
        "\r\n",
        "a = 0;\r\n",
        "if a < 1:\r\n",
        "  print(\"a는 1보다 작다.\") # a는 1보다 작다.\r\n",
        "\r\n",
        "if a == 1:\r\n",
        "  print(\"a는 1이다.\") # a != 1 이므로 출력되지 않는다.\r\n"
      ],
      "execution_count": 1,
      "outputs": [
        {
          "output_type": "stream",
          "text": [
            "a는 1보다 작다.\n"
          ],
          "name": "stdout"
        }
      ]
    },
    {
      "cell_type": "code",
      "metadata": {
        "colab": {
          "base_uri": "https://localhost:8080/"
        },
        "id": "cCICC3sFpxiR",
        "outputId": "f270312b-1d3b-4866-fe89-1a9092b3b4d6"
      },
      "source": [
        "''' if else문 - 조건 충족 확인 '''\r\n",
        "\r\n",
        "b = 1\r\n",
        "if b < 1:\r\n",
        "  printf(\"b는 1보다 작다.\") \r\n",
        "else:\r\n",
        "  print(\"b는 1보다 작지 않습니다.\") # b는 1보다 작지 않습니다."
      ],
      "execution_count": 2,
      "outputs": [
        {
          "output_type": "stream",
          "text": [
            "b는 1보다 작지 않습니다.\n"
          ],
          "name": "stdout"
        }
      ]
    },
    {
      "cell_type": "code",
      "metadata": {
        "colab": {
          "base_uri": "https://localhost:8080/"
        },
        "id": "YC5fLNXXr1r7",
        "outputId": "fa9ad97d-a947-4397-b9b2-3b40c7919005"
      },
      "source": [
        "''' if elif else문 - 여러개의 조건 충첩 '''\r\n",
        "\r\n",
        "c = 2\r\n",
        "if c < 2: # if문 실행\r\n",
        "  print(\"c는 2보다 작다.\")\r\n",
        "elif c > 2: # if문 충족X --> elif문 실행\r\n",
        "  print(\"c는 2보다 크다\")\r\n",
        "else: # elif 충족X --> else문 충족 --> 명령문 실행 \r\n",
        "  print(\"c는 2 입니다.\") # c는 2 입니다.\r\n"
      ],
      "execution_count": 3,
      "outputs": [
        {
          "output_type": "stream",
          "text": [
            "c는 2 입니다.\n"
          ],
          "name": "stdout"
        }
      ]
    }
  ]
}